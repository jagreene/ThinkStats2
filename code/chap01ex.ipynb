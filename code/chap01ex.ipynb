{
 "metadata": {
  "name": "",
  "signature": "sha256:e720ac70f1d37ea68d81711716402e29d3a6cff3581f8573523d7488112a5a4f"
 },
 "nbformat": 3,
 "nbformat_minor": 0,
 "worksheets": [
  {
   "cells": [
    {
     "cell_type": "markdown",
     "metadata": {},
     "source": [
      "Exercise from Think Stats, 2nd Edition (thinkstats2.com)\n",
      "by Allen Downey"
     ]
    },
    {
     "cell_type": "code",
     "collapsed": false,
     "input": [
      "import nsfg\n",
      "import scipy\n",
      "import thinkstats2\n",
      "import thinkplot\n",
      "\n",
      "df = nsfg.ReadFemPreg()\n",
      "\n",
      "def ePdf(df):\n",
      "    pdf = thinkstats2.EstimatedPdf(df.birthord.value_counts())\n",
      "    thinkplot.Pdf(pdf)\n",
      "    \n",
      "ePdf(df)"
     ],
     "language": "python",
     "metadata": {},
     "outputs": [],
     "prompt_number": 16
    },
    {
     "cell_type": "markdown",
     "metadata": {},
     "source": [
      "Print value counts for <tt>birthord</tt> and compare to results published in the [codebook](http://www.icpsr.umich.edu/nsfg6/Controller?displayPage=labelDetails&fileCode=PREG&section=A&subSec=8016&srtLabel=611933)"
     ]
    },
    {
     "cell_type": "code",
     "collapsed": false,
     "input": [
      "df.birthord.value_counts().sort_index()"
     ],
     "language": "python",
     "metadata": {},
     "outputs": [
      {
       "metadata": {},
       "output_type": "pyout",
       "prompt_number": 2,
       "text": [
        "1     4413\n",
        "2     2874\n",
        "3     1234\n",
        "4      421\n",
        "5      126\n",
        "6       50\n",
        "7       20\n",
        "8        7\n",
        "9        2\n",
        "10       1\n",
        "dtype: int64"
       ]
      }
     ],
     "prompt_number": 2
    },
    {
     "cell_type": "markdown",
     "metadata": {},
     "source": [
      "Print value counts for <tt>prglngth</tt> and compare to results published in the [codebook](http://www.icpsr.umich.edu/nsfg6/Controller?displayPage=labelDetails&fileCode=PREG&section=A&subSec=8016&srtLabel=611931)"
     ]
    },
    {
     "cell_type": "code",
     "collapsed": false,
     "input": [],
     "language": "python",
     "metadata": {},
     "outputs": [],
     "prompt_number": 2
    },
    {
     "cell_type": "markdown",
     "metadata": {},
     "source": [
      "Print value counts for <tt>agepreg</tt> and compare to results published in the [codebook](http://www.icpsr.umich.edu/nsfg6/Controller?displayPage=labelDetails&fileCode=PREG&section=A&subSec=8016&srtLabel=611935).\n",
      "\n",
      "Looking at this data, please remember my comments in the book about the obligation to approach data with consideration for the context and respect for the respondents."
     ]
    },
    {
     "cell_type": "code",
     "collapsed": false,
     "input": [],
     "language": "python",
     "metadata": {},
     "outputs": [],
     "prompt_number": 2
    },
    {
     "cell_type": "markdown",
     "metadata": {},
     "source": [
      "Compute the mean birthweight."
     ]
    },
    {
     "cell_type": "code",
     "collapsed": false,
     "input": [
      "df.totalwgt_lb.mean()"
     ],
     "language": "python",
     "metadata": {},
     "outputs": [
      {
       "metadata": {},
       "output_type": "pyout",
       "prompt_number": 3,
       "text": [
        "7.2656284576233681"
       ]
      }
     ],
     "prompt_number": 3
    },
    {
     "cell_type": "markdown",
     "metadata": {},
     "source": [
      "Create a new column named <tt>totalwgt_kg</tt> that contains birth weight in kilograms.  Compute its mean.  Remember that when you create a new column, you have to use dictionary syntax, not dot notation."
     ]
    },
    {
     "cell_type": "code",
     "collapsed": false,
     "input": [],
     "language": "python",
     "metadata": {},
     "outputs": [],
     "prompt_number": 3
    },
    {
     "cell_type": "markdown",
     "metadata": {},
     "source": [
      "Look through the codebook and find a variable, other than the ones mentioned in the book, that you find interesting.  Compute values counts, means, or other statistics."
     ]
    },
    {
     "cell_type": "code",
     "collapsed": false,
     "input": [],
     "language": "python",
     "metadata": {},
     "outputs": [],
     "prompt_number": 3
    },
    {
     "cell_type": "markdown",
     "metadata": {},
     "source": [
      "Create a boolean Series."
     ]
    },
    {
     "cell_type": "code",
     "collapsed": false,
     "input": [
      "df.outcome == 1"
     ],
     "language": "python",
     "metadata": {},
     "outputs": [
      {
       "metadata": {},
       "output_type": "pyout",
       "prompt_number": 4,
       "text": [
        "0      True\n",
        "1      True\n",
        "2      True\n",
        "3      True\n",
        "4      True\n",
        "5      True\n",
        "6      True\n",
        "7      True\n",
        "8      True\n",
        "9      True\n",
        "10     True\n",
        "11     True\n",
        "12     True\n",
        "13    False\n",
        "14    False\n",
        "...\n",
        "13578     True\n",
        "13579     True\n",
        "13580    False\n",
        "13581     True\n",
        "13582    False\n",
        "13583    False\n",
        "13584     True\n",
        "13585    False\n",
        "13586    False\n",
        "13587    False\n",
        "13588     True\n",
        "13589    False\n",
        "13590    False\n",
        "13591     True\n",
        "13592     True\n",
        "Name: outcome, Length: 13593, dtype: bool"
       ]
      }
     ],
     "prompt_number": 4
    },
    {
     "cell_type": "markdown",
     "metadata": {},
     "source": [
      "Use a boolean Series to select the records for the pregnancies that ended in live birth."
     ]
    },
    {
     "cell_type": "code",
     "collapsed": false,
     "input": [
      "live = df[df.outcome == 1]\n",
      "len(live)"
     ],
     "language": "python",
     "metadata": {},
     "outputs": [
      {
       "metadata": {},
       "output_type": "pyout",
       "prompt_number": 5,
       "text": [
        "9148"
       ]
      }
     ],
     "prompt_number": 5
    },
    {
     "cell_type": "markdown",
     "metadata": {},
     "source": [
      "Count the number of live births with <tt>birthwgt_lb</tt> between 0 and 5 pounds (including both).  The result should be 1125."
     ]
    },
    {
     "cell_type": "code",
     "collapsed": false,
     "input": [
      "len(live[(live.birthwgt_lb >= 0) & (live.birthwgt_lb <= 5)])"
     ],
     "language": "python",
     "metadata": {},
     "outputs": [
      {
       "metadata": {},
       "output_type": "pyout",
       "prompt_number": 6,
       "text": [
        "1125"
       ]
      }
     ],
     "prompt_number": 6
    },
    {
     "cell_type": "markdown",
     "metadata": {},
     "source": [
      "Count the number of live births with <tt>birthwgt_lb</tt> between 9 and 95 pounds (including both).  The result should be 798 "
     ]
    },
    {
     "cell_type": "code",
     "collapsed": false,
     "input": [],
     "language": "python",
     "metadata": {},
     "outputs": [],
     "prompt_number": 6
    },
    {
     "cell_type": "markdown",
     "metadata": {},
     "source": [
      "Use <tt>birthord</tt> to select the records for first babies and others.  How many are there of each?"
     ]
    },
    {
     "cell_type": "code",
     "collapsed": false,
     "input": [
      "firsts = df[df.birthord==1]\n",
      "others = df[df.birthord>1]\n",
      "len(firsts), len(others)"
     ],
     "language": "python",
     "metadata": {},
     "outputs": [
      {
       "metadata": {},
       "output_type": "pyout",
       "prompt_number": 7,
       "text": [
        "(4413, 4735)"
       ]
      }
     ],
     "prompt_number": 7
    },
    {
     "cell_type": "markdown",
     "metadata": {},
     "source": [
      "Compute the mean weight for first babies and others."
     ]
    },
    {
     "cell_type": "code",
     "collapsed": false,
     "input": [
      "firsts.totalwgt_lb.mean()"
     ],
     "language": "python",
     "metadata": {},
     "outputs": [
      {
       "metadata": {},
       "output_type": "pyout",
       "prompt_number": 8,
       "text": [
        "7.201094430437772"
       ]
      }
     ],
     "prompt_number": 8
    },
    {
     "cell_type": "code",
     "collapsed": false,
     "input": [
      "others.totalwgt_lb.mean()"
     ],
     "language": "python",
     "metadata": {},
     "outputs": [
      {
       "metadata": {},
       "output_type": "pyout",
       "prompt_number": 9,
       "text": [
        "7.3258556149732623"
       ]
      }
     ],
     "prompt_number": 9
    },
    {
     "cell_type": "markdown",
     "metadata": {},
     "source": [
      "Compute the mean <tt>prglngth</tt> for first babies and others.  Compute the difference in means, expressed in hours."
     ]
    },
    {
     "cell_type": "code",
     "collapsed": false,
     "input": [],
     "language": "python",
     "metadata": {},
     "outputs": [],
     "prompt_number": 9
    }
   ],
   "metadata": {}
  }
 ]
}